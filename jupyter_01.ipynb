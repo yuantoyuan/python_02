{
  "cells": [
    {
      "cell_type": "code",
      "execution_count": null,
      "metadata": {
        "collapsed": true,
        "pycharm": {}
      },
      "outputs": [],
      "source": "a\u003d3\nb\u003d5\nprint(\"I\")\nprint(a+b)\nprint(\"xingxing\")\nprint(\"123\")\n## nohao"
    }
  ],
  "metadata": {
    "language_info": {
      "codemirror_mode": {
        "name": "ipython",
        "version": 2
      },
      "file_extension": ".py",
      "mimetype": "text/x-python",
      "name": "python",
      "nbconvert_exporter": "python",
      "pygments_lexer": "ipython2",
      "version": "2.7.6"
    },
    "kernelspec": {
      "name": "pycharm-7163313",
      "language": "python",
      "display_name": "PyCharm (python_01)"
    }
  },
  "nbformat": 4,
  "nbformat_minor": 0
}